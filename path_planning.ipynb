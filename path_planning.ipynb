{
 "cells": [
  {
   "cell_type": "code",
   "execution_count": 1,
   "metadata": {},
   "outputs": [
    {
     "name": "stderr",
     "output_type": "stream",
     "text": [
      "/home/eia/.local/lib/python3.10/site-packages/matplotlib/projections/__init__.py:63: UserWarning: Unable to import Axes3D. This may be due to multiple versions of Matplotlib being installed (e.g. as a system package and as a pip package). As a result, the 3D projection is not available.\n",
      "  warnings.warn(\"Unable to import Axes3D. This may be due to multiple versions of \"\n"
     ]
    }
   ],
   "source": [
    "import numpy as np\n",
    "import matplotlib.pyplot as plt"
   ]
  },
  {
   "cell_type": "markdown",
   "metadata": {},
   "source": [
    "## A*"
   ]
  },
  {
   "cell_type": "code",
   "execution_count": 2,
   "metadata": {},
   "outputs": [],
   "source": [
    "class Node():\n",
    "    \"\"\"A node class for A* Pathfinding\"\"\"\n",
    "\n",
    "    def __init__(self, parent=None, position=None):\n",
    "        self.parent = parent\n",
    "        self.position = position\n",
    "\n",
    "        self.g = 0\n",
    "        self.h = 0\n",
    "        self.f = 0\n",
    "\n",
    "    def __eq__(self, other):\n",
    "        return self.position == other.position\n",
    "\n",
    "    def __hash__(self):               #<-- added a hash method\n",
    "        return hash(self.position)\n",
    "\n",
    "\n",
    "def astar(maze, start, end):\n",
    "    \"\"\"Returns a list of tuples as a path from the given start to the given end in the given maze\"\"\"\n",
    "\n",
    "    # Create start and end node\n",
    "    start_node = Node(None, start)\n",
    "    end_node = Node(None, end)\n",
    "\n",
    "    # Initialize both open and closed list\n",
    "    open_list = []\n",
    "    closed_list = set()                # <-- closed_list must be a set\n",
    "\n",
    "    # Add the start node\n",
    "    open_list.append(start_node)\n",
    "\n",
    "    # Loop until you find the end\n",
    "    while len(open_list) > 0:\n",
    "\n",
    "        # Get the current node\n",
    "        current_node = open_list[0]\n",
    "        current_index = 0\n",
    "        for index, item in enumerate(open_list):\n",
    "            if item.f <= current_node.f:\n",
    "                current_node = item\n",
    "                current_index = index\n",
    "\n",
    "        # Pop current off open list, add to closed list\n",
    "        open_list.pop(current_index)\n",
    "        closed_list.add(current_node)  \n",
    "\n",
    "        # Found the goal\n",
    "        if current_node == end_node:\n",
    "            path = []\n",
    "            current = current_node\n",
    "            while current is not None:\n",
    "                path.append(current.position)\n",
    "                current = current.parent\n",
    "            return path[::-1] # Return reversed path\n",
    "\n",
    "        # Generate children\n",
    "        children = []\n",
    "        for new_position in [(0, -1), (0, 1), (-1, 0), (1, 0), (-1, -1), (-1, 1), (1, -1), (1, 1)]: # Adjacent squares\n",
    "\n",
    "            # Get node position\n",
    "            node_position = (current_node.position[0] + new_position[0], current_node.position[1] + new_position[1])\n",
    "\n",
    "            # Make sure within range\n",
    "            if node_position[0] > (len(maze) - 1) or node_position[0] < 0 or node_position[1] > (len(maze[len(maze)-1]) -1) or node_position[1] < 0:\n",
    "                continue\n",
    "\n",
    "            # Make sure walkable terrain\n",
    "            if maze[node_position[0]][node_position[1]] != 0:\n",
    "                continue\n",
    "\n",
    "            # Create new node\n",
    "            new_node = Node(current_node, node_position)\n",
    "\n",
    "            # Append\n",
    "            children.append(new_node)\n",
    "\n",
    "        # Loop through children\n",
    "        for child in children:\n",
    "\n",
    "            # Child is on the closed list\n",
    "            if child in closed_list:             \n",
    "                continue\n",
    "\n",
    "            # Create the f, g, and h values\n",
    "            cost = np.sqrt((child.position[0] - current_node.position[0])**2 + (child.position[1] - current_node.position[1])**2)\n",
    "            child.g = current_node.g + cost\n",
    "            #child.h = np.sqrt((end_node.position[0] - child.position[0])**2) + ((end_node.position[1] - child.position[1])**2)\n",
    "            child.h = abs(end_node.position[0] - child.position[0]) + abs(end_node.position[1] - child.position[1])\n",
    "            child.f = child.g + child.h\n",
    "\n",
    "            # Child is already in the open list\n",
    "            if child in open_list:\n",
    "                i = open_list.index(child)\n",
    "                if child.g > open_list[i].g:\n",
    "                    continue\n",
    "            # for open_node in open_list:\n",
    "            #     if child == open_node and child.g > open_node.g:\n",
    "            #         continue\n",
    "                \n",
    "\n",
    "            # Add the child to the open list\n",
    "            open_list.append(child)\n"
   ]
  },
  {
   "cell_type": "code",
   "execution_count": 3,
   "metadata": {},
   "outputs": [],
   "source": [
    "# maze = [[0, 0, 0, 0, 0, 0, 0, 0, 0, 0],\n",
    "#         [1, 0, 1, 0, 1, 1, 1, 0, 1, 1],\n",
    "#         [1, 0, 1, 0, 1, 0, 0, 0, 0, 0],\n",
    "#         [1, 1, 1, 0, 1, 0, 0, 1, 1, 1],\n",
    "#         [1, 0, 1, 1, 1, 0, 0, 0, 0, 0],\n",
    "#         [0, 0, 0, 0, 1, 0, 0, 0, 1, 0],\n",
    "#         [0, 0, 1, 0, 0, 0, 0, 0, 1, 0],\n",
    "#         [0, 0, 0, 0, 1, 1, 1, 1, 1, 0],\n",
    "#         [0, 0, 0, 0, 1, 0, 0, 0, 0, 0],\n",
    "#         [0, 0, 0, 0, 1, 0, 0, 0, 0, 0]]\n",
    "maze = np.zeros((50,50))\n",
    "maze[10:20,10:12] = 1\n",
    "maze[25:35,15:25] = 1\n",
    "maze[30:45,30:32] = 1\n",
    "maze[30:32,30:] = 1\n",
    "maze[10:12,:20] = 1\n",
    "\n",
    "start = (0, 0)\n",
    "end = (40, 20)\n",
    "# end = (8,8)\n",
    "\n",
    "path = astar(maze, start, end)"
   ]
  },
  {
   "cell_type": "code",
   "execution_count": 4,
   "metadata": {},
   "outputs": [
    {
     "data": {
      "image/png": "[encoded data removed]",
      "text/plain": [
       "<Figure size 640x480 with 1 Axes>"
      ]
     },
     "metadata": {},
     "output_type": "display_data"
    }
   ],
   "source": [
    "plt.imshow(maze, cmap='binary')\n",
    "plt.plot(np.array(path)[:,1],np.array(path)[:,0])\n",
    "# plt.xticks(np.arange(len(maze[0])))\n",
    "# plt.yticks(np.arange(len(maze)))\n",
    "plt.grid()"
   ]
  },
  {
   "cell_type": "markdown",
   "metadata": {},
   "source": [
    "### Map from file"
   ]
  },
  {
   "cell_type": "code",
   "execution_count": 5,
   "metadata": {},
   "outputs": [],
   "source": [
    "import cv2"
   ]
  },
  {
   "cell_type": "code",
   "execution_count": 6,
   "metadata": {},
   "outputs": [
    {
     "data": {
      "text/plain": [
       "<matplotlib.image.AxesImage at 0x7f1f2b70f880>"
      ]
     },
     "execution_count": 6,
     "metadata": {},
     "output_type": "execute_result"
    },
    {
     "data": {
      "image/png": "[encoded data removed]",
      "text/plain": [
       "<Figure size 640x480 with 1 Axes>"
      ]
     },
     "metadata": {},
     "output_type": "display_data"
    }
   ],
   "source": [
    "map = cv2.imread(\"test_map2.jpg\")\n",
    "map = cv2.cvtColor(map, cv2.COLOR_BGR2GRAY)\n",
    "map = cv2.threshold(map, 128, 1, cv2.THRESH_BINARY_INV)[1]\n",
    "#map = cv2.resize(map, (40,60))\n",
    "plt.imshow(map, cmap='binary')"
   ]
  },
  {
   "cell_type": "code",
   "execution_count": 7,
   "metadata": {},
   "outputs": [],
   "source": [
    "start = (20, 5)\n",
    "end = (25, 40)\n",
    "\n",
    "path = astar(map, start, end)"
   ]
  },
  {
   "cell_type": "code",
   "execution_count": 8,
   "metadata": {},
   "outputs": [
    {
     "data": {
      "image/png": "[encoded data removed]",
      "text/plain": [
       "<Figure size 640x480 with 1 Axes>"
      ]
     },
     "metadata": {},
     "output_type": "display_data"
    }
   ],
   "source": [
    "plt.imshow(map, cmap='binary')\n",
    "plt.plot(np.array(path)[:,1],np.array(path)[:,0])\n",
    "plt.grid()"
   ]
  }
 ],
 "metadata": {
  "kernelspec": {
   "display_name": "Python 3",
   "language": "python",
   "name": "python3"
  },
  "language_info": {
   "codemirror_mode": {
    "name": "ipython",
    "version": 3
   },
   "file_extension": ".py",
   "mimetype": "text/x-python",
   "name": "python",
   "nbconvert_exporter": "python",
   "pygments_lexer": "ipython3",
   "version": "3.10.12"
  }
 },
 "nbformat": 4,
 "nbformat_minor": 2
}
